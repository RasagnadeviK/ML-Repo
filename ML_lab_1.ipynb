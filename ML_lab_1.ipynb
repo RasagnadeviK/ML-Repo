{
  "nbformat": 4,
  "nbformat_minor": 0,
  "metadata": {
    "colab": {
      "provenance": [],
      "authorship_tag": "ABX9TyMnbtM3WT/qjHr7LBMZ326v",
      "include_colab_link": true
    },
    "kernelspec": {
      "name": "python3",
      "display_name": "Python 3"
    },
    "language_info": {
      "name": "python"
    }
  },
  "cells": [
    {
      "cell_type": "markdown",
      "metadata": {
        "id": "view-in-github",
        "colab_type": "text"
      },
      "source": [
        "<a href=\"https://colab.research.google.com/github/RasagnadeviK/ML-Repo/blob/main/ML_lab_1.ipynb\" target=\"_parent\"><img src=\"https://colab.research.google.com/assets/colab-badge.svg\" alt=\"Open In Colab\"/></a>"
      ]
    },
    {
      "cell_type": "code",
      "execution_count": null,
      "metadata": {
        "colab": {
          "base_uri": "https://localhost:8080/"
        },
        "id": "Leb7qrJL1ny8",
        "outputId": "0c8902c5-fb5c-4a33-f785-8ae03d656482"
      },
      "outputs": [
        {
          "output_type": "stream",
          "name": "stdout",
          "text": [
            "array('f', [16.5, 166.0, 154.0, 176.0, 144.0])\n",
            "176.0\n",
            "16.5\n",
            "array('i', [2, 7, 1, 34])\n",
            "array('i', [7, 87, 2, 53, 22, 0, 11])\n",
            "array('i', [5, 2, 7, 1, 34, 54, 22, 7, 87, 2, 53, 22, 0, 11])\n",
            "array('i', [5, 2, 7, 1, 34, 54, 22, 7, 87])\n",
            "array('i', [2, 53, 22, 0, 11])\n",
            "array('i', [5, 2, 7, 1, 34, 54, 22, 7, 87, 2, 53, 22, 0])\n",
            "array('i', [11])\n",
            "14\n"
          ]
        }
      ],
      "source": [
        "import array as ar\n",
        "ht=ar.array('f',[16.5,166,154,176,144])\n",
        "print(ht)\n",
        "print(ht[3])\n",
        "print(ht[0])\n",
        "\n",
        "value=ar.array('i',[5,2,7,1,34,54,22,7,87,2,53,22,0,11])\n",
        "print(value[1:5])\n",
        "print(value[7:])\n",
        "print(value[:])\n",
        "print(value[:-5])\n",
        "print(value[-5:])\n",
        "print(value[:-1])\n",
        "print(value[-1:])\n",
        "\n",
        "print(len(value))"
      ]
    },
    {
      "cell_type": "code",
      "source": [
        "import array as ar\n",
        "import numpy as np\n",
        "\n",
        "ar1=ar.array('i',[3,5,1,7,0])\n",
        "ar2=ar.array('i',[12,16,19,20])\n",
        "add=ar.array('i')\n",
        "add=ar1+ar2\n",
        "print(add)\n",
        "print(ar1+ar2)\n",
        "\n",
        "marks=np.array([76,78,81,66,85])\n",
        "\n",
        "meanmr=np.mean(marks)\n",
        "medmr=np.median(marks)\n",
        "minmr=np.min(marks)\n",
        "maxmr=np.max(marks)\n",
        "print('mean:',meanmr,'\\nmedian:',medmr,'\\nMin:',minmr,'\\nMax:',maxmr)\n"
      ],
      "metadata": {
        "id": "r509xhh73NKQ",
        "colab": {
          "base_uri": "https://localhost:8080/"
        },
        "outputId": "3a92de6c-240a-4283-f330-57d477a8bf17"
      },
      "execution_count": null,
      "outputs": [
        {
          "output_type": "stream",
          "name": "stdout",
          "text": [
            "array('i', [3, 5, 1, 7, 0, 12, 16, 19, 20])\n",
            "array('i', [3, 5, 1, 7, 0, 12, 16, 19, 20])\n"
          ]
        }
      ]
    },
    {
      "cell_type": "code",
      "source": [
        "nm='Rasagna'\n",
        "print(nm)\n",
        "msg='I love me'\n",
        "print(msg)\n",
        "msg=\"Could you find a way to let me down slowly A little sympathy I hope you can you show me\"\n",
        "print(msg)\n",
        "s1=\"Hello, World!\"\n",
        "s2=\"Let me down slowly\"\n",
        "s3=\"Hello, World!\"\n",
        "print(s1==s2)\n",
        "print(s1==s3)\n"
      ],
      "metadata": {
        "colab": {
          "base_uri": "https://localhost:8080/"
        },
        "id": "7KYqXIyY5YuI",
        "outputId": "317875e0-deb1-4b24-e55f-a873c82bb6bd"
      },
      "execution_count": null,
      "outputs": [
        {
          "output_type": "stream",
          "name": "stdout",
          "text": [
            "Rasagna\n",
            "I love me\n",
            "Could you find a way to let me down slowly A little sympathy I hope you can you show me\n",
            "False\n",
            "True\n"
          ]
        }
      ]
    },
    {
      "cell_type": "code",
      "source": [
        "import pandas as pd\n",
        "\n",
        "dtdict={\n",
        "    'ID':[1,2,3,4,5],\n",
        "    'Gender':['Male','Female','Female','Male','Female'],\n",
        "    'Age':[12,34,23,45,66],\n",
        "    'Inc':[10000,120300,240024,274687,9493588],\n",
        "    'Scr':[20,20,30,40,90]\n",
        "}\n",
        "data=pd.DataFrame(dtdict)\n",
        "data.to_csv(\"DataID.csv\")\n",
        "print(data)\n",
        "data['Phnm']=[12345,23456,34567,56789,67890]\n",
        "data['Place']=[\"vja\",'hyd','vja','sec','ten']\n",
        "print(data)\n",
        "data.to_csv(\"DataID.csv\")\n",
        "#data=[6,'Male',22,29922,30,1231223,'raj']\n",
        "data.update({6,'Male',22,29922,30,1231223,'raj'})\n",
        "#data.to_csv(\"DataID.csv\")\n",
        "print(data)"
      ],
      "metadata": {
        "colab": {
          "base_uri": "https://localhost:8080/"
        },
        "id": "Wq4UPNNu82nd",
        "outputId": "f4e7648c-d272-4e81-f968-5919df3fc513"
      },
      "execution_count": null,
      "outputs": [
        {
          "output_type": "stream",
          "name": "stdout",
          "text": [
            "   ID  Gender  Age      Inc  Scr\n",
            "0   1    Male   12    10000   20\n",
            "1   2  Female   34   120300   20\n",
            "2   3  Female   23   240024   30\n",
            "3   4    Male   45   274687   40\n",
            "4   5  Female   66  9493588   90\n",
            "   ID  Gender  Age      Inc  Scr   Phnm Place\n",
            "0   1    Male   12    10000   20  12345   vja\n",
            "1   2  Female   34   120300   20  23456   hyd\n",
            "2   3  Female   23   240024   30  34567   vja\n",
            "3   4    Male   45   274687   40  56789   sec\n",
            "4   5  Female   66  9493588   90  67890   ten\n",
            "   ID  Gender  Age      Inc  Scr   Phnm Place\n",
            "0   1    Male   12    10000   20  12345   vja\n",
            "1   2  Female   34   120300   20  23456   hyd\n",
            "2   3  Female   23   240024   30  34567   vja\n",
            "3   4    Male   45   274687   40  56789   sec\n",
            "4   5  Female   66  9493588   90  67890   ten\n"
          ]
        }
      ]
    }
  ]
}