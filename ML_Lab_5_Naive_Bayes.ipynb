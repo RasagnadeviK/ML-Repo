{
  "nbformat": 4,
  "nbformat_minor": 0,
  "metadata": {
    "colab": {
      "provenance": [],
      "authorship_tag": "ABX9TyNHYsMS01l8MsrqdhwZAiQ4",
      "include_colab_link": true
    },
    "kernelspec": {
      "name": "python3",
      "display_name": "Python 3"
    },
    "language_info": {
      "name": "python"
    }
  },
  "cells": [
    {
      "cell_type": "markdown",
      "metadata": {
        "id": "view-in-github",
        "colab_type": "text"
      },
      "source": [
        "<a href=\"https://colab.research.google.com/github/RasagnadeviK/ML-Repo/blob/main/ML_Lab_5_Naive_Bayes.ipynb\" target=\"_parent\"><img src=\"https://colab.research.google.com/assets/colab-badge.svg\" alt=\"Open In Colab\"/></a>"
      ]
    },
    {
      "cell_type": "code",
      "execution_count": null,
      "metadata": {
        "colab": {
          "base_uri": "https://localhost:8080/"
        },
        "id": "ryCgQ7z8Ra9A",
        "outputId": "6657fd6d-f282-41fe-87ed-136f7f751dc4"
      },
      "outputs": [
        {
          "output_type": "stream",
          "name": "stdout",
          "text": [
            "    outlook temperature humidity    wind playTennis\n",
            "0     sunny         hot     high    weak         No\n",
            "1     sunny         hot     high  strong         No\n",
            "2  overcast         hot     high    weak        Yes\n",
            "3     rainy        mild     high    weak        Yes\n",
            "4     rainy        cool   normal    weak        Yes\n",
            "5     rainy        cool   normal  strong         No\n",
            "6  overcast        cool   normal  strong        Yes\n",
            "7     sunny        mild     high    weak         No\n",
            "8     sunny        cool   normal    weak        Yes\n",
            "9     rainy        mild     high    weak        Yes\n",
            "['Yes' 'Yes' 'Yes' 'Yes' 'Yes' 'Yes' 'Yes' 'Yes']\n",
            "Accuracy: 0.500\n"
          ]
        }
      ],
      "source": [
        "import pandas as pd\n",
        "import numpy as np\n",
        "from sklearn.model_selection import train_test_split\n",
        "from sklearn.naive_bayes import GaussianNB\n",
        "from sklearn.metrics import accuracy_score\n",
        "\n",
        "dt={\n",
        "    'outlook':['sunny','sunny','overcast','rainy','rainy','rainy','overcast','sunny','sunny','rainy'],\n",
        "    'temperature':['hot','hot','hot','mild','cool','cool','cool','mild','cool','mild'],\n",
        "    'humidity':['high','high','high','high','normal','normal','normal','high','normal','high'],\n",
        "    'wind':['weak','strong','weak','weak','weak','strong','strong','weak','weak','weak'],\n",
        "    'playTennis':['No','No','Yes','Yes','Yes','No','Yes','No','Yes','Yes'],\n",
        "}\n",
        "\n",
        "df=pd.DataFrame(dt)\n",
        "print(df)\n",
        "\n",
        "df=pd.get_dummies(df,columns=['outlook','temperature','humidity','wind'])\n",
        "\n",
        "x=df.drop('playTennis',axis=1)\n",
        "y=df['playTennis']\n",
        "\n",
        "xtrn,xtst,ytrn,ytst=train_test_split(x,y,test_size=0.8,random_state=42)\n",
        "\n",
        "model=GaussianNB()\n",
        "model.fit(xtrn,ytrn)\n",
        "\n",
        "ypred=model.predict(xtst)\n",
        "print(ypred)\n",
        "acc=accuracy_score(ytst,ypred)\n",
        "print(f'Accuracy: {acc:.3f}')\n",
        "\n"
      ]
    },
    {
      "cell_type": "code",
      "source": [
        "import pandas as pd\n",
        "import numpy as np\n",
        "from sklearn.model_selection import train_test_split\n",
        "from sklearn.naive_bayes import GaussianNB\n",
        "from sklearn.metrics import accuracy_score\n",
        "\n",
        "dt={\n",
        "    'outlook':['sunny','overcast','rainy','sunny'],\n",
        "    'temperature':['hot','cool','mild','hot'],\n",
        "    'humidity':['high','normal','normal','high'],\n",
        "    'wind':['strong','weak','weak','strong'],\n",
        "    'playTennis':['No','No','Yes','No'],\n",
        "}\n",
        "\n",
        "df=pd.DataFrame(dt)\n",
        "print(df)\n",
        "\n",
        "df=pd.get_dummies(df,columns=['outlook','temperature','humidity','wind'])\n",
        "\n",
        "x=df.drop('playTennis',axis=1)\n",
        "y=df['playTennis']\n",
        "\n",
        "xtrn,xtst,ytrn,ytst=train_test_split(x,y,test_size=0.35,random_state=42)\n",
        "\n",
        "model=GaussianNB()\n",
        "model.fit(xtrn,ytrn)\n",
        "\n",
        "print(xtst)\n",
        "ypred=model.predict(xtst)\n",
        "print(ypred)\n",
        "acc=accuracy_score(ytst,ypred)\n",
        "print(f'Accuracy: {acc:.3f}')\n",
        "\n"
      ],
      "metadata": {
        "colab": {
          "base_uri": "https://localhost:8080/"
        },
        "id": "iYMZVe7qc2w5",
        "outputId": "7df6e7ed-e9e8-4469-ecb8-728a4943a66d"
      },
      "execution_count": null,
      "outputs": [
        {
          "output_type": "stream",
          "name": "stdout",
          "text": [
            "    outlook temperature humidity    wind playTennis\n",
            "0     sunny         hot     high  strong         No\n",
            "1  overcast        cool   normal    weak         No\n",
            "2     rainy        mild   normal    weak        Yes\n",
            "3     sunny         hot     high  strong         No\n",
            "   outlook_overcast  outlook_rainy  outlook_sunny  temperature_cool  \\\n",
            "1                 1              0              0                 1   \n",
            "3                 0              0              1                 0   \n",
            "\n",
            "   temperature_hot  temperature_mild  humidity_high  humidity_normal  \\\n",
            "1                0                 0              0                1   \n",
            "3                1                 0              1                0   \n",
            "\n",
            "   wind_strong  wind_weak  \n",
            "1            0          1  \n",
            "3            1          0  \n",
            "['Yes' 'No']\n",
            "Accuracy: 0.500\n"
          ]
        }
      ]
    }
  ]
}